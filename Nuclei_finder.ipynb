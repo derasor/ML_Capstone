{
 "cells": [
  {
   "cell_type": "markdown",
   "metadata": {},
   "source": [
    "[Differences between image segmentation, classification, and detection](https://www.quora.com/What-is-the-difference-between-image-segmentation-classification-and-detection)\n",
    "\n",
    "\n",
    "Image segmentation is the task of dividing the image into segments/regions belonging to the same part/object/content.\n",
    "\n",
    "Image classification is the task of classifying what appears in an image into one out of a set of predefined classes. For example, answering that what appears in an image is a dog.\n",
    "\n",
    "Detection is the task of localizing where objects are. For example, face detection’s target is to tell where faces are in an image.\n",
    "\n",
    "Note that image semantic segmentation is the task of classifying each pixel in an image into one out of a set of predefined classes. Such an output yields a segmentation of the image because nearby pixels are often of the same class and hence, such a classification image tends to segment the input.\n",
    "\n",
    "---------------\n",
    "\n",
    "Classification can apply to pixels or to images. When classifying pixels, we try to decide whether a given pixel belongs to a particular class\n",
    "\n",
    "When classifying images, you are trying to identify the type of image you have, such as what the main subject of the picture is (person, dog, bus, building) or whether the image has a particular composition (portrait, landscape, nightscape, cityscape, closeup, etc.) or identifying objects/characters that have been detected and extracted from a larger image (like the MNIST data set).\n",
    "\n",
    "Generally speaking segmentation transforms the pixels of the image (a raster representation) into a set of outlines or polygons (a vector representation). The vector representation is a more compact description of what is in the image and requires some simplification by the software. For example, in Google Maps the map-view is the vector representation, and the satellite-view is the raster representation. Segmentation requires you to define what attributes or features should be associated with different types of segments - such as roads, forests, cities, water, etc. As Omry pointed out, for segmentation we generally classify the pixels in an image first, and then segment the image by “drawing” an outline around the pixels that belong to the same or similar classes."
   ]
  },
  {
   "cell_type": "code",
   "execution_count": 1,
   "metadata": {
    "collapsed": true
   },
   "outputs": [],
   "source": [
    "'''\n",
    "CAPSTONE\n",
    "\n",
    "Initial setup\n",
    "\n",
    "Ref1:\n",
    "https://www.kaggle.com/keegil/keras-u-net-starter-lb-0-277\n",
    "\n",
    "'''\n",
    "\n",
    "import random\n",
    "import numpy as np\n",
    "import matplotlib.pyplot as plt\n",
    "\n",
    "# Image parameters\n",
    "IMG_WIDTH = 128\n",
    "IMG_HEIGHT = 128\n",
    "IMG_CHANNELS = 3\n",
    "\n",
    "seed = 64\n",
    "\n",
    "random.seed = seed\n",
    "np.random.seed = seed"
   ]
  },
  {
   "cell_type": "code",
   "execution_count": 2,
   "metadata": {},
   "outputs": [
    {
     "name": "stdout",
     "output_type": "stream",
     "text": [
      "Number of training ids: 670\n",
      "Number of test ids: 65\n"
     ]
    }
   ],
   "source": [
    "# Get train and test IDs\n",
    "import os\n",
    "\n",
    "train_ids = next(os.walk('stage1_train/'))[1]\n",
    "test_ids = next(os.walk('stage1_test/'))[1]\n",
    "\n",
    "print('Number of training ids: {}'.format(len(train_ids)))\n",
    "print('Number of test ids: {}'.format(len(test_ids)))"
   ]
  },
  {
   "cell_type": "code",
   "execution_count": 4,
   "metadata": {},
   "outputs": [
    {
     "name": "stdout",
     "output_type": "stream",
     "text": [
      "Getting and resizing train images and masks ... \n"
     ]
    },
    {
     "name": "stderr",
     "output_type": "stream",
     "text": [
      "100%|██████████| 670/670 [01:50<00:00,  6.08it/s]"
     ]
    },
    {
     "name": "stdout",
     "output_type": "stream",
     "text": [
      "Getting and resizing test images ... \n"
     ]
    },
    {
     "name": "stderr",
     "output_type": "stream",
     "text": [
      "\n",
      "100%|██████████| 65/65 [00:01<00:00, 41.51it/s]"
     ]
    },
    {
     "name": "stdout",
     "output_type": "stream",
     "text": [
      "Done!\n"
     ]
    },
    {
     "name": "stderr",
     "output_type": "stream",
     "text": [
      "\n"
     ]
    }
   ],
   "source": [
    "'''\n",
    "Get the data\n",
    "'''\n",
    "\n",
    "import sys\n",
    "from tqdm import tqdm\n",
    "from skimage.io import imread\n",
    "from skimage.transform import resize\n",
    "\n",
    "# Get and resize train images and masks\n",
    "X_train = np.zeros((len(train_ids), IMG_HEIGHT, IMG_WIDTH, IMG_CHANNELS), dtype=np.uint8)\n",
    "Y_train = np.zeros((len(train_ids), IMG_HEIGHT, IMG_WIDTH, 1), dtype=np.bool)\n",
    "print('Getting and resizing train images and masks ... ')\n",
    "sys.stdout.flush()\n",
    "for n, id_ in tqdm(enumerate(train_ids), total=len(train_ids)):\n",
    "    path = 'stage1_train/' + id_\n",
    "    img = imread(path + '/images/' + id_ + '.png')[:,:,:IMG_CHANNELS]\n",
    "    img = resize(img, (IMG_HEIGHT, IMG_WIDTH), mode='constant', preserve_range=True)\n",
    "    X_train[n] = img\n",
    "    mask = np.zeros((IMG_HEIGHT, IMG_WIDTH, 1), dtype=np.bool)\n",
    "    for mask_file in next(os.walk(path + '/masks/'))[2]:\n",
    "        mask_ = imread(path + '/masks/' + mask_file)\n",
    "        mask_ = np.expand_dims(resize(mask_, (IMG_HEIGHT, IMG_WIDTH), mode='constant', \n",
    "                                      preserve_range=True), axis=-1)\n",
    "        mask = np.maximum(mask, mask_)\n",
    "    Y_train[n] = mask\n",
    "\n",
    "# Get and resize test images\n",
    "X_test = np.zeros((len(test_ids), IMG_HEIGHT, IMG_WIDTH, IMG_CHANNELS), dtype=np.uint8)\n",
    "sizes_test = []\n",
    "print('Getting and resizing test images ... ')\n",
    "sys.stdout.flush()\n",
    "for n, id_ in tqdm(enumerate(test_ids), total=len(test_ids)):\n",
    "    path = 'stage1_test/' + id_\n",
    "    img = imread(path + '/images/' + id_ + '.png')[:,:,:IMG_CHANNELS]\n",
    "    sizes_test.append([img.shape[0], img.shape[1]])\n",
    "    img = resize(img, (IMG_HEIGHT, IMG_WIDTH), mode='constant', preserve_range=True)\n",
    "    X_test[n] = img\n",
    "\n",
    "print('Done!')\n"
   ]
  },
  {
   "cell_type": "code",
   "execution_count": 5,
   "metadata": {},
   "outputs": [
    {
     "data": {
      "image/png": "[encoded data removed]",
      "text/plain": [
       "<matplotlib.figure.Figure at 0x7f33f9176150>"
      ]
     },
     "metadata": {},
     "output_type": "display_data"
    },
    {
     "data": {
      "image/png": "[encoded data removed]",
      "text/plain": [
       "<matplotlib.figure.Figure at 0x7f33fbc8ad10>"
      ]
     },
     "metadata": {},
     "output_type": "display_data"
    }
   ],
   "source": [
    "# Check if training data looks all right\n",
    "from skimage.io import imshow\n",
    "\n",
    "ix = random.randint(0, len(train_ids))\n",
    "imshow(X_train[ix])\n",
    "plt.show()\n",
    "imshow(np.squeeze(Y_train[ix]))\n",
    "plt.show()"
   ]
  },
  {
   "cell_type": "code",
   "execution_count": 7,
   "metadata": {
    "collapsed": true
   },
   "outputs": [],
   "source": [
    "'''\n",
    "Intersection Over Union (IoU) Metric\n",
    "\n",
    "Ref:\n",
    "https://gist.github.com/meetshah1995/6a5ad112559ef1536d0191f8b9fe8d1e\n",
    "\n",
    "\n",
    "def computeIoU(y_pred_batch, y_true_batch):\n",
    "    return np.mean(np.asarray([pixelAccuracy(y_pred_batch[i], y_true_batch[i]) for i in range(len(y_true_batch))])) \n",
    "\n",
    "def pixelAccuracy(y_pred, y_true):\n",
    "    y_pred = np.argmax(np.reshape(y_pred,[N_CLASSES_PASCAL,img_rows,img_cols]),axis=0)\n",
    "    y_true = np.argmax(np.reshape(y_true,[N_CLASSES_PASCAL,img_rows,img_cols]),axis=0)\n",
    "    y_pred = y_pred * (y_true>0)\n",
    "    \n",
    "    return 1.0 * np.sum((y_pred==y_true)*(y_true>0)) /  np.sum(y_true>0)\n",
    "    \n",
    "'''\n",
    "import tensorflow as tf\n",
    "\n",
    "from keras import backend as K\n",
    "\n",
    "\n",
    "# Define IoU metric\n",
    "def mean_iou(y_true, y_pred):\n",
    "    prec = []\n",
    "    for t in np.arange(0.5, 1.0, 0.05):\n",
    "        y_pred_ = tf.to_int32(y_pred > t)\n",
    "        score, up_opt = tf.metrics.mean_iou(y_true, y_pred_, 2)\n",
    "        K.get_session().run(tf.local_variables_initializer())\n",
    "        with tf.control_dependencies([up_opt]):\n",
    "            score = tf.identity(score)\n",
    "        prec.append(score)\n",
    "    return K.mean(K.stack(prec), axis=0)"
   ]
  },
  {
   "cell_type": "code",
   "execution_count": 9,
   "metadata": {},
   "outputs": [
    {
     "name": "stdout",
     "output_type": "stream",
     "text": [
      "__________________________________________________________________________________________________\n",
      "Layer (type)                    Output Shape         Param #     Connected to                     \n",
      "==================================================================================================\n",
      "input_1 (InputLayer)            (None, 128, 128, 3)  0                                            \n",
      "__________________________________________________________________________________________________\n",
      "lambda_1 (Lambda)               (None, 128, 128, 3)  0           input_1[0][0]                    \n",
      "__________________________________________________________________________________________________\n",
      "conv2d_1 (Conv2D)               (None, 128, 128, 16) 448         lambda_1[0][0]                   \n",
      "__________________________________________________________________________________________________\n",
      "dropout_1 (Dropout)             (None, 128, 128, 16) 0           conv2d_1[0][0]                   \n",
      "__________________________________________________________________________________________________\n",
      "conv2d_2 (Conv2D)               (None, 128, 128, 16) 2320        dropout_1[0][0]                  \n",
      "__________________________________________________________________________________________________\n",
      "max_pooling2d_1 (MaxPooling2D)  (None, 64, 64, 16)   0           conv2d_2[0][0]                   \n",
      "__________________________________________________________________________________________________\n",
      "conv2d_3 (Conv2D)               (None, 64, 64, 32)   4640        max_pooling2d_1[0][0]            \n",
      "__________________________________________________________________________________________________\n",
      "dropout_2 (Dropout)             (None, 64, 64, 32)   0           conv2d_3[0][0]                   \n",
      "__________________________________________________________________________________________________\n",
      "conv2d_4 (Conv2D)               (None, 64, 64, 32)   9248        dropout_2[0][0]                  \n",
      "__________________________________________________________________________________________________\n",
      "max_pooling2d_2 (MaxPooling2D)  (None, 32, 32, 32)   0           conv2d_4[0][0]                   \n",
      "__________________________________________________________________________________________________\n",
      "conv2d_5 (Conv2D)               (None, 32, 32, 64)   18496       max_pooling2d_2[0][0]            \n",
      "__________________________________________________________________________________________________\n",
      "dropout_3 (Dropout)             (None, 32, 32, 64)   0           conv2d_5[0][0]                   \n",
      "__________________________________________________________________________________________________\n",
      "conv2d_6 (Conv2D)               (None, 32, 32, 64)   36928       dropout_3[0][0]                  \n",
      "__________________________________________________________________________________________________\n",
      "max_pooling2d_3 (MaxPooling2D)  (None, 16, 16, 64)   0           conv2d_6[0][0]                   \n",
      "__________________________________________________________________________________________________\n",
      "conv2d_7 (Conv2D)               (None, 16, 16, 128)  73856       max_pooling2d_3[0][0]            \n",
      "__________________________________________________________________________________________________\n",
      "dropout_4 (Dropout)             (None, 16, 16, 128)  0           conv2d_7[0][0]                   \n",
      "__________________________________________________________________________________________________\n",
      "conv2d_8 (Conv2D)               (None, 16, 16, 128)  147584      dropout_4[0][0]                  \n",
      "__________________________________________________________________________________________________\n",
      "max_pooling2d_4 (MaxPooling2D)  (None, 8, 8, 128)    0           conv2d_8[0][0]                   \n",
      "__________________________________________________________________________________________________\n",
      "conv2d_9 (Conv2D)               (None, 8, 8, 256)    295168      max_pooling2d_4[0][0]            \n",
      "__________________________________________________________________________________________________\n",
      "dropout_5 (Dropout)             (None, 8, 8, 256)    0           conv2d_9[0][0]                   \n",
      "__________________________________________________________________________________________________\n",
      "conv2d_10 (Conv2D)              (None, 8, 8, 256)    590080      dropout_5[0][0]                  \n",
      "__________________________________________________________________________________________________\n",
      "conv2d_transpose_1 (Conv2DTrans (None, 16, 16, 128)  131200      conv2d_10[0][0]                  \n",
      "__________________________________________________________________________________________________\n",
      "concatenate_1 (Concatenate)     (None, 16, 16, 256)  0           conv2d_transpose_1[0][0]         \n",
      "                                                                 conv2d_8[0][0]                   \n",
      "__________________________________________________________________________________________________\n",
      "conv2d_11 (Conv2D)              (None, 16, 16, 128)  295040      concatenate_1[0][0]              \n",
      "__________________________________________________________________________________________________\n",
      "dropout_6 (Dropout)             (None, 16, 16, 128)  0           conv2d_11[0][0]                  \n",
      "__________________________________________________________________________________________________\n",
      "conv2d_12 (Conv2D)              (None, 16, 16, 128)  147584      dropout_6[0][0]                  \n",
      "__________________________________________________________________________________________________\n",
      "conv2d_transpose_2 (Conv2DTrans (None, 32, 32, 64)   32832       conv2d_12[0][0]                  \n",
      "__________________________________________________________________________________________________\n",
      "concatenate_2 (Concatenate)     (None, 32, 32, 128)  0           conv2d_transpose_2[0][0]         \n",
      "                                                                 conv2d_6[0][0]                   \n",
      "__________________________________________________________________________________________________\n",
      "conv2d_13 (Conv2D)              (None, 32, 32, 64)   73792       concatenate_2[0][0]              \n",
      "__________________________________________________________________________________________________\n",
      "dropout_7 (Dropout)             (None, 32, 32, 64)   0           conv2d_13[0][0]                  \n",
      "__________________________________________________________________________________________________\n",
      "conv2d_14 (Conv2D)              (None, 32, 32, 64)   36928       dropout_7[0][0]                  \n",
      "__________________________________________________________________________________________________\n",
      "conv2d_transpose_3 (Conv2DTrans (None, 64, 64, 32)   8224        conv2d_14[0][0]                  \n",
      "__________________________________________________________________________________________________\n",
      "concatenate_3 (Concatenate)     (None, 64, 64, 64)   0           conv2d_transpose_3[0][0]         \n",
      "                                                                 conv2d_4[0][0]                   \n",
      "__________________________________________________________________________________________________\n",
      "conv2d_15 (Conv2D)              (None, 64, 64, 32)   18464       concatenate_3[0][0]              \n",
      "__________________________________________________________________________________________________\n",
      "dropout_8 (Dropout)             (None, 64, 64, 32)   0           conv2d_15[0][0]                  \n",
      "__________________________________________________________________________________________________\n",
      "conv2d_16 (Conv2D)              (None, 64, 64, 32)   9248        dropout_8[0][0]                  \n",
      "__________________________________________________________________________________________________\n",
      "conv2d_transpose_4 (Conv2DTrans (None, 128, 128, 16) 2064        conv2d_16[0][0]                  \n",
      "__________________________________________________________________________________________________\n",
      "concatenate_4 (Concatenate)     (None, 128, 128, 32) 0           conv2d_transpose_4[0][0]         \n",
      "                                                                 conv2d_2[0][0]                   \n",
      "__________________________________________________________________________________________________\n",
      "conv2d_17 (Conv2D)              (None, 128, 128, 16) 4624        concatenate_4[0][0]              \n",
      "__________________________________________________________________________________________________\n",
      "dropout_9 (Dropout)             (None, 128, 128, 16) 0           conv2d_17[0][0]                  \n",
      "__________________________________________________________________________________________________\n",
      "conv2d_18 (Conv2D)              (None, 128, 128, 16) 2320        dropout_9[0][0]                  \n",
      "__________________________________________________________________________________________________\n",
      "conv2d_19 (Conv2D)              (None, 128, 128, 1)  17          conv2d_18[0][0]                  \n",
      "==================================================================================================\n",
      "Total params: 1,941,105\n",
      "Trainable params: 1,941,105\n",
      "Non-trainable params: 0\n",
      "__________________________________________________________________________________________________\n"
     ]
    }
   ],
   "source": [
    "'''\n",
    "Build model\n",
    "'''\n",
    "\n",
    "from keras.models import Model, load_model\n",
    "from keras.layers import Input\n",
    "from keras.layers.core import Dropout, Lambda\n",
    "from keras.layers.convolutional import Conv2D, Conv2DTranspose\n",
    "from keras.layers.pooling import MaxPooling2D\n",
    "from keras.layers.merge import concatenate\n",
    "\n",
    "\n",
    "\n",
    "'''\n",
    "From kernel mentioned above\n",
    "\n",
    "Loosely based on U-Net: Convolutional Networks for Biomedical Image Segmentation \n",
    "https://arxiv.org/pdf/1505.04597.pdf\n",
    "\n",
    "and very similar to this repo \n",
    "https://github.com/jocicmarko/ultrasound-nerve-segmentation\n",
    "from the Kaggle Ultrasound Nerve Segmentation competition.\n",
    "'''\n",
    "\n",
    "\n",
    "# Build U-Net model\n",
    "inputs = Input((i_height, i_width, i_channels))\n",
    "s = Lambda(lambda x: x / 255) (inputs)\n",
    "\n",
    "c1 = Conv2D(16, (3, 3), activation='elu', kernel_initializer='he_normal', padding='same') (s)\n",
    "c1 = Dropout(0.1) (c1)\n",
    "c1 = Conv2D(16, (3, 3), activation='elu', kernel_initializer='he_normal', padding='same') (c1)\n",
    "p1 = MaxPooling2D((2, 2)) (c1)\n",
    "\n",
    "c2 = Conv2D(32, (3, 3), activation='elu', kernel_initializer='he_normal', padding='same') (p1)\n",
    "c2 = Dropout(0.1) (c2)\n",
    "c2 = Conv2D(32, (3, 3), activation='elu', kernel_initializer='he_normal', padding='same') (c2)\n",
    "p2 = MaxPooling2D((2, 2)) (c2)\n",
    "\n",
    "c3 = Conv2D(64, (3, 3), activation='elu', kernel_initializer='he_normal', padding='same') (p2)\n",
    "c3 = Dropout(0.2) (c3)\n",
    "c3 = Conv2D(64, (3, 3), activation='elu', kernel_initializer='he_normal', padding='same') (c3)\n",
    "p3 = MaxPooling2D((2, 2)) (c3)\n",
    "\n",
    "c4 = Conv2D(128, (3, 3), activation='elu', kernel_initializer='he_normal', padding='same') (p3)\n",
    "c4 = Dropout(0.2) (c4)\n",
    "c4 = Conv2D(128, (3, 3), activation='elu', kernel_initializer='he_normal', padding='same') (c4)\n",
    "p4 = MaxPooling2D(pool_size=(2, 2)) (c4)\n",
    "\n",
    "c5 = Conv2D(256, (3, 3), activation='elu', kernel_initializer='he_normal', padding='same') (p4)\n",
    "c5 = Dropout(0.3) (c5)\n",
    "c5 = Conv2D(256, (3, 3), activation='elu', kernel_initializer='he_normal', padding='same') (c5)\n",
    "\n",
    "u6 = Conv2DTranspose(128, (2, 2), strides=(2, 2), padding='same') (c5)\n",
    "u6 = concatenate([u6, c4])\n",
    "c6 = Conv2D(128, (3, 3), activation='elu', kernel_initializer='he_normal', padding='same') (u6)\n",
    "c6 = Dropout(0.2) (c6)\n",
    "c6 = Conv2D(128, (3, 3), activation='elu', kernel_initializer='he_normal', padding='same') (c6)\n",
    "\n",
    "u7 = Conv2DTranspose(64, (2, 2), strides=(2, 2), padding='same') (c6)\n",
    "u7 = concatenate([u7, c3])\n",
    "c7 = Conv2D(64, (3, 3), activation='elu', kernel_initializer='he_normal', padding='same') (u7)\n",
    "c7 = Dropout(0.2) (c7)\n",
    "c7 = Conv2D(64, (3, 3), activation='elu', kernel_initializer='he_normal', padding='same') (c7)\n",
    "\n",
    "u8 = Conv2DTranspose(32, (2, 2), strides=(2, 2), padding='same') (c7)\n",
    "u8 = concatenate([u8, c2])\n",
    "c8 = Conv2D(32, (3, 3), activation='elu', kernel_initializer='he_normal', padding='same') (u8)\n",
    "c8 = Dropout(0.1) (c8)\n",
    "c8 = Conv2D(32, (3, 3), activation='elu', kernel_initializer='he_normal', padding='same') (c8)\n",
    "\n",
    "u9 = Conv2DTranspose(16, (2, 2), strides=(2, 2), padding='same') (c8)\n",
    "u9 = concatenate([u9, c1], axis=3)\n",
    "c9 = Conv2D(16, (3, 3), activation='elu', kernel_initializer='he_normal', padding='same') (u9)\n",
    "c9 = Dropout(0.1) (c9)\n",
    "c9 = Conv2D(16, (3, 3), activation='elu', kernel_initializer='he_normal', padding='same') (c9)\n",
    "\n",
    "outputs = Conv2D(1, (1, 1), activation='sigmoid') (c9)\n",
    "\n",
    "model = Model(inputs=[inputs], outputs=[outputs])\n",
    "model.compile(optimizer='adam', loss='binary_crossentropy', metrics=[mean_iou])\n",
    "model.summary()"
   ]
  },
  {
   "cell_type": "code",
   "execution_count": 10,
   "metadata": {},
   "outputs": [
    {
     "name": "stdout",
     "output_type": "stream",
     "text": [
      "Train on 603 samples, validate on 67 samples\n",
      "Epoch 1/50\n",
      "592/603 [============================>.] - ETA: 1s - loss: 0.3633 - mean_iou: 0.4178Epoch 00001: val_loss improved from inf to 0.19870, saving model to model-dsbowl2018-1.h5\n",
      "603/603 [==============================] - 80s 133ms/step - loss: 0.3594 - mean_iou: 0.4189 - val_loss: 0.1987 - val_mean_iou: 0.4885\n",
      "Epoch 2/50\n",
      "592/603 [============================>.] - ETA: 1s - loss: 0.1730 - mean_iou: 0.5454Epoch 00002: val_loss improved from 0.19870 to 0.15177, saving model to model-dsbowl2018-1.h5\n",
      "603/603 [==============================] - 81s 134ms/step - loss: 0.1727 - mean_iou: 0.5463 - val_loss: 0.1518 - val_mean_iou: 0.5938\n",
      "Epoch 3/50\n",
      "592/603 [============================>.] - ETA: 1s - loss: 0.1382 - mean_iou: 0.6213Epoch 00003: val_loss improved from 0.15177 to 0.11117, saving model to model-dsbowl2018-1.h5\n",
      "603/603 [==============================] - 86s 143ms/step - loss: 0.1386 - mean_iou: 0.6218 - val_loss: 0.1112 - val_mean_iou: 0.6472\n",
      "Epoch 4/50\n",
      "592/603 [============================>.] - ETA: 1s - loss: 0.1159 - mean_iou: 0.6675Epoch 00004: val_loss improved from 0.11117 to 0.09552, saving model to model-dsbowl2018-1.h5\n",
      "603/603 [==============================] - 83s 137ms/step - loss: 0.1151 - mean_iou: 0.6678 - val_loss: 0.0955 - val_mean_iou: 0.6850\n",
      "Epoch 5/50\n",
      "592/603 [============================>.] - ETA: 1s - loss: 0.1047 - mean_iou: 0.6985Epoch 00005: val_loss improved from 0.09552 to 0.08598, saving model to model-dsbowl2018-1.h5\n",
      "603/603 [==============================] - 81s 134ms/step - loss: 0.1051 - mean_iou: 0.6987 - val_loss: 0.0860 - val_mean_iou: 0.7109\n",
      "Epoch 6/50\n",
      "592/603 [============================>.] - ETA: 1s - loss: 0.1015 - mean_iou: 0.7202Epoch 00006: val_loss did not improve\n",
      "603/603 [==============================] - 84s 140ms/step - loss: 0.1016 - mean_iou: 0.7203 - val_loss: 0.0874 - val_mean_iou: 0.7291\n",
      "Epoch 7/50\n",
      "592/603 [============================>.] - ETA: 1s - loss: 0.1004 - mean_iou: 0.7358Epoch 00007: val_loss improved from 0.08598 to 0.07855, saving model to model-dsbowl2018-1.h5\n",
      "603/603 [==============================] - 90s 149ms/step - loss: 0.1003 - mean_iou: 0.7359 - val_loss: 0.0786 - val_mean_iou: 0.7426\n",
      "Epoch 8/50\n",
      "592/603 [============================>.] - ETA: 1s - loss: 0.0978 - mean_iou: 0.7475Epoch 00008: val_loss did not improve\n",
      "603/603 [==============================] - 85s 141ms/step - loss: 0.0986 - mean_iou: 0.7475 - val_loss: 0.0864 - val_mean_iou: 0.7530\n",
      "Epoch 9/50\n",
      "592/603 [============================>.] - ETA: 1s - loss: 0.0947 - mean_iou: 0.7575Epoch 00009: val_loss did not improve\n",
      "603/603 [==============================] - 91s 151ms/step - loss: 0.0941 - mean_iou: 0.7576 - val_loss: 0.0806 - val_mean_iou: 0.7618\n",
      "Epoch 10/50\n",
      "592/603 [============================>.] - ETA: 1s - loss: 0.0871 - mean_iou: 0.7655Epoch 00010: val_loss improved from 0.07855 to 0.07613, saving model to model-dsbowl2018-1.h5\n",
      "603/603 [==============================] - 97s 160ms/step - loss: 0.0869 - mean_iou: 0.7656 - val_loss: 0.0761 - val_mean_iou: 0.7695\n",
      "Epoch 11/50\n",
      "592/603 [============================>.] - ETA: 1s - loss: 0.0845 - mean_iou: 0.7730Epoch 00011: val_loss did not improve\n",
      "603/603 [==============================] - 87s 144ms/step - loss: 0.0845 - mean_iou: 0.7730 - val_loss: 0.0777 - val_mean_iou: 0.7761\n",
      "Epoch 12/50\n",
      "592/603 [============================>.] - ETA: 1s - loss: 0.0882 - mean_iou: 0.7787Epoch 00012: val_loss did not improve\n",
      "603/603 [==============================] - 84s 139ms/step - loss: 0.0879 - mean_iou: 0.7788 - val_loss: 0.0816 - val_mean_iou: 0.7815\n",
      "Epoch 13/50\n",
      "592/603 [============================>.] - ETA: 1s - loss: 0.0852 - mean_iou: 0.7837Epoch 00013: val_loss improved from 0.07613 to 0.07157, saving model to model-dsbowl2018-1.h5\n",
      "603/603 [==============================] - 90s 149ms/step - loss: 0.0853 - mean_iou: 0.7837 - val_loss: 0.0716 - val_mean_iou: 0.7861\n",
      "Epoch 14/50\n",
      "592/603 [============================>.] - ETA: 1s - loss: 0.0798 - mean_iou: 0.7885Epoch 00014: val_loss improved from 0.07157 to 0.06539, saving model to model-dsbowl2018-1.h5\n",
      "603/603 [==============================] - 85s 141ms/step - loss: 0.0799 - mean_iou: 0.7885 - val_loss: 0.0654 - val_mean_iou: 0.7907\n",
      "Epoch 15/50\n",
      "592/603 [============================>.] - ETA: 1s - loss: 0.0835 - mean_iou: 0.7927Epoch 00015: val_loss did not improve\n",
      "603/603 [==============================] - 92s 153ms/step - loss: 0.0831 - mean_iou: 0.7927 - val_loss: 0.0696 - val_mean_iou: 0.7945\n",
      "Epoch 16/50\n",
      "592/603 [============================>.] - ETA: 1s - loss: 0.0799 - mean_iou: 0.7962Epoch 00016: val_loss did not improve\n",
      "603/603 [==============================] - 91s 152ms/step - loss: 0.0798 - mean_iou: 0.7963 - val_loss: 0.0781 - val_mean_iou: 0.7981\n",
      "Epoch 17/50\n",
      "592/603 [============================>.] - ETA: 1s - loss: 0.0796 - mean_iou: 0.7995Epoch 00017: val_loss improved from 0.06539 to 0.06156, saving model to model-dsbowl2018-1.h5\n",
      "603/603 [==============================] - 94s 155ms/step - loss: 0.0792 - mean_iou: 0.7995 - val_loss: 0.0616 - val_mean_iou: 0.8010\n",
      "Epoch 18/50\n",
      "592/603 [============================>.] - ETA: 1s - loss: 0.0755 - mean_iou: 0.8028Epoch 00018: val_loss improved from 0.06156 to 0.05972, saving model to model-dsbowl2018-1.h5\n",
      "603/603 [==============================] - 87s 144ms/step - loss: 0.0753 - mean_iou: 0.8028 - val_loss: 0.0597 - val_mean_iou: 0.8044\n",
      "Epoch 19/50\n",
      "592/603 [============================>.] - ETA: 1s - loss: 0.0748 - mean_iou: 0.8057Epoch 00019: val_loss did not improve\n",
      "603/603 [==============================] - 97s 161ms/step - loss: 0.0744 - mean_iou: 0.8058 - val_loss: 0.0650 - val_mean_iou: 0.8071\n",
      "Epoch 20/50\n",
      "592/603 [============================>.] - ETA: 1s - loss: 0.0749 - mean_iou: 0.8084Epoch 00020: val_loss did not improve\n",
      "603/603 [==============================] - 105s 174ms/step - loss: 0.0758 - mean_iou: 0.8084 - val_loss: 0.0640 - val_mean_iou: 0.8097\n",
      "Epoch 21/50\n",
      "592/603 [============================>.] - ETA: 1s - loss: 0.0743 - mean_iou: 0.8107Epoch 00021: val_loss did not improve\n",
      "603/603 [==============================] - 95s 158ms/step - loss: 0.0740 - mean_iou: 0.8107 - val_loss: 0.0606 - val_mean_iou: 0.8120\n",
      "Epoch 22/50\n",
      "592/603 [============================>.] - ETA: 1s - loss: 0.0723 - mean_iou: 0.8132Epoch 00022: val_loss did not improve\n",
      "603/603 [==============================] - 101s 167ms/step - loss: 0.0726 - mean_iou: 0.8132 - val_loss: 0.0658 - val_mean_iou: 0.8144\n",
      "Epoch 23/50\n",
      "592/603 [============================>.] - ETA: 1s - loss: 0.0724 - mean_iou: 0.8153Epoch 00023: val_loss did not improve\n",
      "603/603 [==============================] - 97s 161ms/step - loss: 0.0720 - mean_iou: 0.8153 - val_loss: 0.0656 - val_mean_iou: 0.8164\n",
      "Epoch 00023: early stopping\n"
     ]
    }
   ],
   "source": [
    "from keras.callbacks import EarlyStopping, ModelCheckpoint\n",
    "\n",
    "\n",
    "# Fit model\n",
    "earlystopper = EarlyStopping(patience=5, verbose=1)\n",
    "checkpointer = ModelCheckpoint('model-dsbowl2018-1.h5', verbose=1, save_best_only=True)\n",
    "results = model.fit(X_train, Y_train, validation_split=0.1, batch_size=16, epochs=50, \n",
    "                    callbacks=[earlystopper, checkpointer])\n"
   ]
  },
  {
   "cell_type": "code",
   "execution_count": 11,
   "metadata": {},
   "outputs": [
    {
     "name": "stdout",
     "output_type": "stream",
     "text": [
      "603/603 [==============================] - 21s 36ms/step\n",
      "67/67 [==============================] - 2s 34ms/step\n",
      "65/65 [==============================] - 2s 37ms/step\n"
     ]
    }
   ],
   "source": [
    "\n",
    "# Predict on train, val and test\n",
    "model = load_model('model-dsbowl2018-1.h5', custom_objects={'mean_iou': mean_iou})\n",
    "preds_train = model.predict(X_train[:int(X_train.shape[0]*0.9)], verbose=1)\n",
    "preds_val = model.predict(X_train[int(X_train.shape[0]*0.9):], verbose=1)\n",
    "preds_test = model.predict(X_test, verbose=1)\n",
    "\n",
    "# Threshold predictions\n",
    "preds_train_t = (preds_train > 0.5).astype(np.uint8)\n",
    "preds_val_t = (preds_val > 0.5).astype(np.uint8)\n",
    "preds_test_t = (preds_test > 0.5).astype(np.uint8)\n",
    "\n",
    "# Create list of upsampled test masks\n",
    "preds_test_upsampled = []\n",
    "for i in range(len(preds_test)):\n",
    "    preds_test_upsampled.append(resize(np.squeeze(preds_test[i]), \n",
    "                                       (sizes_test[i][0], sizes_test[i][1]), \n",
    "                                       mode='constant', preserve_range=True))\n",
    "    \n"
   ]
  },
  {
   "cell_type": "code",
   "execution_count": 12,
   "metadata": {},
   "outputs": [
    {
     "data": {
      "image/png": "[encoded data removed]",
      "text/plain": [
       "<matplotlib.figure.Figure at 0x7f00c53817d0>"
      ]
     },
     "metadata": {},
     "output_type": "display_data"
    },
    {
     "data": {
      "image/png": "[encoded data removed]",
      "text/plain": [
       "<matplotlib.figure.Figure at 0x7f00c7d9ef90>"
      ]
     },
     "metadata": {},
     "output_type": "display_data"
    },
    {
     "name": "stderr",
     "output_type": "stream",
     "text": [
      "/home/deraso/anaconda2/lib/python2.7/site-packages/skimage/io/_plugins/matplotlib_plugin.py:74: UserWarning: Low image data range; displaying image with stretched contrast.\n",
      "  warn(\"Low image data range; displaying image with \"\n"
     ]
    },
    {
     "data": {
      "image/png": "[encoded data removed]",
      "text/plain": [
       "<matplotlib.figure.Figure at 0x7f007027e890>"
      ]
     },
     "metadata": {},
     "output_type": "display_data"
    }
   ],
   "source": [
    "\n",
    "# Perform a sanity check on some random training samples\n",
    "ix = random.randint(0, len(preds_train_t))\n",
    "imshow(X_train[ix])\n",
    "plt.show()\n",
    "imshow(np.squeeze(Y_train[ix]))\n",
    "plt.show()\n",
    "imshow(np.squeeze(preds_train_t[ix]))\n",
    "plt.show()\n"
   ]
  },
  {
   "cell_type": "code",
   "execution_count": 13,
   "metadata": {},
   "outputs": [
    {
     "data": {
      "image/png": "[encoded data removed]",
      "text/plain": [
       "<matplotlib.figure.Figure at 0x7f00700d9490>"
      ]
     },
     "metadata": {},
     "output_type": "display_data"
    },
    {
     "data": {
      "image/png": "[encoded data removed]",
      "text/plain": [
       "<matplotlib.figure.Figure at 0x7f00700f5090>"
      ]
     },
     "metadata": {},
     "output_type": "display_data"
    },
    {
     "data": {
      "image/png": "[encoded data removed]",
      "text/plain": [
       "<matplotlib.figure.Figure at 0x7f0070096a50>"
      ]
     },
     "metadata": {},
     "output_type": "display_data"
    }
   ],
   "source": [
    "\n",
    "# Perform a sanity check on some random validation samples\n",
    "ix = random.randint(0, len(preds_val_t))\n",
    "imshow(X_train[int(X_train.shape[0]*0.9):][ix])\n",
    "plt.show()\n",
    "imshow(np.squeeze(Y_train[int(Y_train.shape[0]*0.9):][ix]))\n",
    "plt.show()\n",
    "imshow(np.squeeze(preds_val_t[ix]))\n",
    "plt.show()\n"
   ]
  },
  {
   "cell_type": "code",
   "execution_count": 16,
   "metadata": {
    "collapsed": true
   },
   "outputs": [],
   "source": [
    "'''\n",
    "Encode results for submission\n",
    "'''\n",
    "\n",
    "import pandas as pd\n",
    "from skimage.morphology import label\n",
    "\n",
    "# Run-length encoding \n",
    "# from https://www.kaggle.com/rakhlin/fast-run-length-encoding-python\n",
    "def rle_encoding(x):\n",
    "    dots = np.where(x.T.flatten() == 1)[0]\n",
    "    run_lengths = []\n",
    "    prev = -2\n",
    "    for b in dots:\n",
    "        if (b>prev+1): run_lengths.extend((b + 1, 0))\n",
    "        run_lengths[-1] += 1\n",
    "        prev = b\n",
    "    return run_lengths\n",
    "\n",
    "def prob_to_rles(x, cutoff=0.5):\n",
    "    lab_img = label(x > cutoff)\n",
    "    for i in range(1, lab_img.max() + 1):\n",
    "        yield rle_encoding(lab_img == i)\n",
    "        \n",
    "'''\n",
    "Iterate over the test IDs and generate run-length encodings for each seperate mask identified by skimage\n",
    "'''\n",
    "        \n",
    "new_test_ids = []\n",
    "rles = []\n",
    "for n, id_ in enumerate(test_ids):\n",
    "    rle = list(prob_to_rles(preds_test_upsampled[n]))\n",
    "    rles.extend(rle)\n",
    "    new_test_ids.extend([id_] * len(rle))\n",
    "    \n",
    "\n",
    "'''\n",
    "Create submission DataFrame\n",
    "'''\n",
    "\n",
    "sub = pd.DataFrame()\n",
    "sub['ImageId'] = new_test_ids\n",
    "sub['EncodedPixels'] = pd.Series(rles).apply(lambda x: ' '.join(str(y) for y in x))\n",
    "sub.to_csv('nuclei_finder_bench1_deraso.csv', index=False)"
   ]
  },
  {
   "cell_type": "markdown",
   "metadata": {},
   "source": [
    "# Scores 0.261"
   ]
  },
  {
   "cell_type": "code",
   "execution_count": null,
   "metadata": {
    "collapsed": true
   },
   "outputs": [],
   "source": []
  }
 ],
 "metadata": {
  "kernelspec": {
   "display_name": "Python [default]",
   "language": "python",
   "name": "python2"
  },
  "language_info": {
   "codemirror_mode": {
    "name": "ipython",
    "version": 2
   },
   "file_extension": ".py",
   "mimetype": "text/x-python",
   "name": "python",
   "nbconvert_exporter": "python",
   "pygments_lexer": "ipython2",
   "version": "2.7.13"
  }
 },
 "nbformat": 4,
 "nbformat_minor": 2
}
